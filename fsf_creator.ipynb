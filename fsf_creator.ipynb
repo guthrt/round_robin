{
 "cells": [
  {
   "cell_type": "code",
   "execution_count": 14,
   "metadata": {},
   "outputs": [],
   "source": [
    "import os\n",
    "import glob"
   ]
  },
  {
   "cell_type": "code",
   "execution_count": 15,
   "metadata": {},
   "outputs": [],
   "source": [
    "studydir = '/Users/taylor/Desktop/bids_data'"
   ]
  },
  {
   "cell_type": "code",
   "execution_count": 16,
   "metadata": {},
   "outputs": [],
   "source": [
    "fsfdir = \"%s/fsfs\"%(studydir)"
   ]
  },
  {
   "cell_type": "code",
   "execution_count": 17,
   "metadata": {},
   "outputs": [
    {
     "data": {
      "text/plain": [
       "['/Users/taylor/Desktop/bids_data/sub-G01S01/ses-wave1/func/sub-G01S01_ses-wave1_task-RR_aq-A_bold.nii.gz',\n",
       " '/Users/taylor/Desktop/bids_data/sub-G01S01/ses-wave1/func/sub-G01S01_ses-wave1_task-RR_aq-B_bold.nii.gz',\n",
       " '/Users/taylor/Desktop/bids_data/sub-G01S01/ses-wave1/func/sub-G01S01_ses-wave1_task-RR_aq-C_bold.nii.gz',\n",
       " '/Users/taylor/Desktop/bids_data/sub-G01S01/ses-wave1/func/sub-G01S01_ses-wave1_task-RR_aq-D_bold.nii.gz',\n",
       " '/Users/taylor/Desktop/bids_data/sub-G01S01/ses-wave1/func/sub-G01S01_ses-wave1_task-RR_aq-E_bold.nii.gz',\n",
       " '/Users/taylor/Desktop/bids_data/sub-G01S02/ses-wave1/func/sub-G01S02_ses-wave1_task-RR_aq-A_bold.nii.gz',\n",
       " '/Users/taylor/Desktop/bids_data/sub-G01S02/ses-wave1/func/sub-G01S02_ses-wave1_task-RR_aq-B_bold.nii.gz',\n",
       " '/Users/taylor/Desktop/bids_data/sub-G01S02/ses-wave1/func/sub-G01S02_ses-wave1_task-RR_aq-C_bold.nii.gz',\n",
       " '/Users/taylor/Desktop/bids_data/sub-G01S02/ses-wave1/func/sub-G01S02_ses-wave1_task-RR_aq-D_bold.nii.gz',\n",
       " '/Users/taylor/Desktop/bids_data/sub-G01S02/ses-wave1/func/sub-G01S02_ses-wave1_task-RR_aq-E_bold.nii.gz',\n",
       " '/Users/taylor/Desktop/bids_data/sub-G01S03/ses-wave1/func/sub-G01S03_ses-wave1_task-RR_aq-A_bold.nii.gz',\n",
       " '/Users/taylor/Desktop/bids_data/sub-G01S03/ses-wave1/func/sub-G01S03_ses-wave1_task-RR_aq-B_bold.nii.gz',\n",
       " '/Users/taylor/Desktop/bids_data/sub-G01S03/ses-wave1/func/sub-G01S03_ses-wave1_task-RR_aq-C_bold.nii.gz',\n",
       " '/Users/taylor/Desktop/bids_data/sub-G01S03/ses-wave1/func/sub-G01S03_ses-wave1_task-RR_aq-D_bold.nii.gz',\n",
       " '/Users/taylor/Desktop/bids_data/sub-G01S03/ses-wave1/func/sub-G01S03_ses-wave1_task-RR_aq-E_bold.nii.gz',\n",
       " '/Users/taylor/Desktop/bids_data/sub-G01S04/ses-wave1/func/sub-G01S04_ses-wave1_task-RR_aq-A_bold.nii.gz',\n",
       " '/Users/taylor/Desktop/bids_data/sub-G01S04/ses-wave1/func/sub-G01S04_ses-wave1_task-RR_aq-B_bold.nii.gz',\n",
       " '/Users/taylor/Desktop/bids_data/sub-G01S04/ses-wave1/func/sub-G01S04_ses-wave1_task-RR_aq-C_bold.nii.gz',\n",
       " '/Users/taylor/Desktop/bids_data/sub-G01S04/ses-wave1/func/sub-G01S04_ses-wave1_task-RR_aq-D_bold.nii.gz',\n",
       " '/Users/taylor/Desktop/bids_data/sub-G01S04/ses-wave1/func/sub-G01S04_ses-wave1_task-RR_aq-E_bold.nii.gz',\n",
       " '/Users/taylor/Desktop/bids_data/sub-G01S05/ses-wave1/func/sub-G01S05_ses-wave1_task-RR_aq-A_bold.nii.gz',\n",
       " '/Users/taylor/Desktop/bids_data/sub-G01S05/ses-wave1/func/sub-G01S05_ses-wave1_task-RR_aq-B_bold.nii.gz',\n",
       " '/Users/taylor/Desktop/bids_data/sub-G01S05/ses-wave1/func/sub-G01S05_ses-wave1_task-RR_aq-C_bold.nii.gz',\n",
       " '/Users/taylor/Desktop/bids_data/sub-G01S05/ses-wave1/func/sub-G01S05_ses-wave1_task-RR_aq-D_bold.nii.gz',\n",
       " '/Users/taylor/Desktop/bids_data/sub-G01S05/ses-wave1/func/sub-G01S05_ses-wave1_task-RR_aq-E_bold.nii.gz',\n",
       " '/Users/taylor/Desktop/bids_data/sub-G01S06/ses-wave1/func/sub-G01S06_ses-wave1_task-RR_aq-A_bold.nii.gz',\n",
       " '/Users/taylor/Desktop/bids_data/sub-G01S06/ses-wave1/func/sub-G01S06_ses-wave1_task-RR_aq-B_bold.nii.gz',\n",
       " '/Users/taylor/Desktop/bids_data/sub-G01S06/ses-wave1/func/sub-G01S06_ses-wave1_task-RR_aq-C_bold.nii.gz',\n",
       " '/Users/taylor/Desktop/bids_data/sub-G01S06/ses-wave1/func/sub-G01S06_ses-wave1_task-RR_aq-D_bold.nii.gz',\n",
       " '/Users/taylor/Desktop/bids_data/sub-G01S06/ses-wave1/func/sub-G01S06_ses-wave1_task-RR_aq-E_bold.nii.gz',\n",
       " '/Users/taylor/Desktop/bids_data/sub-G02S01/ses-wave1/func/sub-G02S01_ses-wave1_task-RR_aq-A_bold.nii.gz',\n",
       " '/Users/taylor/Desktop/bids_data/sub-G02S01/ses-wave1/func/sub-G02S01_ses-wave1_task-RR_aq-B_bold.nii.gz',\n",
       " '/Users/taylor/Desktop/bids_data/sub-G02S01/ses-wave1/func/sub-G02S01_ses-wave1_task-RR_aq-C_bold.nii.gz',\n",
       " '/Users/taylor/Desktop/bids_data/sub-G02S01/ses-wave1/func/sub-G02S01_ses-wave1_task-RR_aq-D_bold.nii.gz',\n",
       " '/Users/taylor/Desktop/bids_data/sub-G02S01/ses-wave1/func/sub-G02S01_ses-wave1_task-RR_aq-E_bold.nii.gz',\n",
       " '/Users/taylor/Desktop/bids_data/sub-G02S02/ses-wave1/func/sub-G02S02_ses-wave1_task-RR_aq-A_bold.nii.gz',\n",
       " '/Users/taylor/Desktop/bids_data/sub-G02S02/ses-wave1/func/sub-G02S02_ses-wave1_task-RR_aq-B_bold.nii.gz',\n",
       " '/Users/taylor/Desktop/bids_data/sub-G02S02/ses-wave1/func/sub-G02S02_ses-wave1_task-RR_aq-C_bold.nii.gz',\n",
       " '/Users/taylor/Desktop/bids_data/sub-G02S02/ses-wave1/func/sub-G02S02_ses-wave1_task-RR_aq-E_bold.nii.gz',\n",
       " '/Users/taylor/Desktop/bids_data/sub-G02S03/ses-wave1/func/sub-G02S03_ses-wave1_task-RR_aq-A_bold.nii.gz',\n",
       " '/Users/taylor/Desktop/bids_data/sub-G02S03/ses-wave1/func/sub-G02S03_ses-wave1_task-RR_aq-B_bold.nii.gz',\n",
       " '/Users/taylor/Desktop/bids_data/sub-G02S03/ses-wave1/func/sub-G02S03_ses-wave1_task-RR_aq-C_bold.nii.gz',\n",
       " '/Users/taylor/Desktop/bids_data/sub-G02S03/ses-wave1/func/sub-G02S03_ses-wave1_task-RR_aq-D_bold.nii.gz',\n",
       " '/Users/taylor/Desktop/bids_data/sub-G02S03/ses-wave1/func/sub-G02S03_ses-wave1_task-RR_aq-E_bold.nii.gz',\n",
       " '/Users/taylor/Desktop/bids_data/sub-G02S04/ses-wave1/func/sub-G02S04_ses-wave1_task-RR_aq-A_bold.nii.gz',\n",
       " '/Users/taylor/Desktop/bids_data/sub-G02S04/ses-wave1/func/sub-G02S04_ses-wave1_task-RR_aq-B_bold.nii.gz',\n",
       " '/Users/taylor/Desktop/bids_data/sub-G02S04/ses-wave1/func/sub-G02S04_ses-wave1_task-RR_aq-C_bold.nii.gz',\n",
       " '/Users/taylor/Desktop/bids_data/sub-G02S04/ses-wave1/func/sub-G02S04_ses-wave1_task-RR_aq-D_bold.nii.gz',\n",
       " '/Users/taylor/Desktop/bids_data/sub-G02S04/ses-wave1/func/sub-G02S04_ses-wave1_task-RR_aq-E_bold.nii.gz',\n",
       " '/Users/taylor/Desktop/bids_data/sub-G02S05/ses-wave1/func/sub-G02S05_ses-wave1_task-RR_aq-A_bold.nii.gz',\n",
       " '/Users/taylor/Desktop/bids_data/sub-G02S05/ses-wave1/func/sub-G02S05_ses-wave1_task-RR_aq-B_bold.nii.gz',\n",
       " '/Users/taylor/Desktop/bids_data/sub-G02S05/ses-wave1/func/sub-G02S05_ses-wave1_task-RR_aq-C_bold.nii.gz',\n",
       " '/Users/taylor/Desktop/bids_data/sub-G02S05/ses-wave1/func/sub-G02S05_ses-wave1_task-RR_aq-D_bold.nii.gz',\n",
       " '/Users/taylor/Desktop/bids_data/sub-G02S05/ses-wave1/func/sub-G02S05_ses-wave1_task-RR_aq-E_bold.nii.gz',\n",
       " '/Users/taylor/Desktop/bids_data/sub-G02S06/ses-wave1/func/sub-G02S06_ses-wave1_task-RR_aq-A_bold.nii.gz',\n",
       " '/Users/taylor/Desktop/bids_data/sub-G02S06/ses-wave1/func/sub-G02S06_ses-wave1_task-RR_aq-B_bold.nii.gz',\n",
       " '/Users/taylor/Desktop/bids_data/sub-G02S06/ses-wave1/func/sub-G02S06_ses-wave1_task-RR_aq-C_bold.nii.gz',\n",
       " '/Users/taylor/Desktop/bids_data/sub-G02S06/ses-wave1/func/sub-G02S06_ses-wave1_task-RR_aq-D_bold.nii.gz',\n",
       " '/Users/taylor/Desktop/bids_data/sub-G02S06/ses-wave1/func/sub-G02S06_ses-wave1_task-RR_aq-E_bold.nii.gz',\n",
       " '/Users/taylor/Desktop/bids_data/sub-G03S01/ses-wave1/func/sub-G03S01_ses-wave1_task-RR_aq-A_bold.nii.gz',\n",
       " '/Users/taylor/Desktop/bids_data/sub-G03S01/ses-wave1/func/sub-G03S01_ses-wave1_task-RR_aq-B_bold.nii.gz',\n",
       " '/Users/taylor/Desktop/bids_data/sub-G03S01/ses-wave1/func/sub-G03S01_ses-wave1_task-RR_aq-C_bold.nii.gz',\n",
       " '/Users/taylor/Desktop/bids_data/sub-G03S01/ses-wave1/func/sub-G03S01_ses-wave1_task-RR_aq-D_bold.nii.gz',\n",
       " '/Users/taylor/Desktop/bids_data/sub-G03S01/ses-wave1/func/sub-G03S01_ses-wave1_task-RR_aq-E_bold.nii.gz',\n",
       " '/Users/taylor/Desktop/bids_data/sub-G03S02/ses-wave1/func/sub-G03S02_ses-wave1_task-RR_aq-A_bold.nii.gz',\n",
       " '/Users/taylor/Desktop/bids_data/sub-G03S02/ses-wave1/func/sub-G03S02_ses-wave1_task-RR_aq-B_bold.nii.gz',\n",
       " '/Users/taylor/Desktop/bids_data/sub-G03S02/ses-wave1/func/sub-G03S02_ses-wave1_task-RR_aq-C_bold.nii.gz',\n",
       " '/Users/taylor/Desktop/bids_data/sub-G03S02/ses-wave1/func/sub-G03S02_ses-wave1_task-RR_aq-D_bold.nii.gz',\n",
       " '/Users/taylor/Desktop/bids_data/sub-G03S02/ses-wave1/func/sub-G03S02_ses-wave1_task-RR_aq-E_bold.nii.gz',\n",
       " '/Users/taylor/Desktop/bids_data/sub-G03S03/ses-wave1/func/sub-G03S03_ses-wave1_task-RR_aq-A_bold.nii.gz',\n",
       " '/Users/taylor/Desktop/bids_data/sub-G03S03/ses-wave1/func/sub-G03S03_ses-wave1_task-RR_aq-B_bold.nii.gz',\n",
       " '/Users/taylor/Desktop/bids_data/sub-G03S03/ses-wave1/func/sub-G03S03_ses-wave1_task-RR_aq-C_bold.nii.gz',\n",
       " '/Users/taylor/Desktop/bids_data/sub-G03S03/ses-wave1/func/sub-G03S03_ses-wave1_task-RR_aq-D_bold.nii.gz',\n",
       " '/Users/taylor/Desktop/bids_data/sub-G03S03/ses-wave1/func/sub-G03S03_ses-wave1_task-RR_aq-E_bold.nii.gz',\n",
       " '/Users/taylor/Desktop/bids_data/sub-G03S04/ses-wave1/func/sub-G03S04_ses-wave1_task-RR_aq-A_bold.nii.gz',\n",
       " '/Users/taylor/Desktop/bids_data/sub-G03S04/ses-wave1/func/sub-G03S04_ses-wave1_task-RR_aq-B_bold.nii.gz',\n",
       " '/Users/taylor/Desktop/bids_data/sub-G03S04/ses-wave1/func/sub-G03S04_ses-wave1_task-RR_aq-C_bold.nii.gz',\n",
       " '/Users/taylor/Desktop/bids_data/sub-G03S04/ses-wave1/func/sub-G03S04_ses-wave1_task-RR_aq-D_bold.nii.gz',\n",
       " '/Users/taylor/Desktop/bids_data/sub-G03S04/ses-wave1/func/sub-G03S04_ses-wave1_task-RR_aq-E_bold.nii.gz',\n",
       " '/Users/taylor/Desktop/bids_data/sub-G03S05/ses-wave1/func/sub-G03S05_ses-wave1_task-RR_aq-A_bold.nii.gz',\n",
       " '/Users/taylor/Desktop/bids_data/sub-G03S05/ses-wave1/func/sub-G03S05_ses-wave1_task-RR_aq-B_bold.nii.gz',\n",
       " '/Users/taylor/Desktop/bids_data/sub-G03S05/ses-wave1/func/sub-G03S05_ses-wave1_task-RR_aq-C_bold.nii.gz',\n",
       " '/Users/taylor/Desktop/bids_data/sub-G03S05/ses-wave1/func/sub-G03S05_ses-wave1_task-RR_aq-D_bold.nii.gz',\n",
       " '/Users/taylor/Desktop/bids_data/sub-G03S05/ses-wave1/func/sub-G03S05_ses-wave1_task-RR_aq-E_bold.nii.gz',\n",
       " '/Users/taylor/Desktop/bids_data/sub-G03S06/ses-wave1/func/sub-G03S06_ses-wave1_task-RR_aq-A_bold.nii.gz',\n",
       " '/Users/taylor/Desktop/bids_data/sub-G03S06/ses-wave1/func/sub-G03S06_ses-wave1_task-RR_aq-B_bold.nii.gz',\n",
       " '/Users/taylor/Desktop/bids_data/sub-G03S06/ses-wave1/func/sub-G03S06_ses-wave1_task-RR_aq-C_bold.nii.gz',\n",
       " '/Users/taylor/Desktop/bids_data/sub-G03S06/ses-wave1/func/sub-G03S06_ses-wave1_task-RR_aq-D_bold.nii.gz',\n",
       " '/Users/taylor/Desktop/bids_data/sub-G03S06/ses-wave1/func/sub-G03S06_ses-wave1_task-RR_aq-E_bold.nii.gz',\n",
       " '/Users/taylor/Desktop/bids_data/sub-G04S01/ses-wave1/func/sub-G04S01_ses-wave1_task-RR_aq-A_bold.nii.gz',\n",
       " '/Users/taylor/Desktop/bids_data/sub-G04S01/ses-wave1/func/sub-G04S01_ses-wave1_task-RR_aq-B_bold.nii.gz',\n",
       " '/Users/taylor/Desktop/bids_data/sub-G04S01/ses-wave1/func/sub-G04S01_ses-wave1_task-RR_aq-C_bold.nii.gz',\n",
       " '/Users/taylor/Desktop/bids_data/sub-G04S01/ses-wave1/func/sub-G04S01_ses-wave1_task-RR_aq-D_bold.nii.gz',\n",
       " '/Users/taylor/Desktop/bids_data/sub-G04S01/ses-wave1/func/sub-G04S01_ses-wave1_task-RR_aq-E_bold.nii.gz',\n",
       " '/Users/taylor/Desktop/bids_data/sub-G04S02/ses-wave1/func/sub-G04S02_ses-wave1_task-RR_aq-A_bold.nii.gz',\n",
       " '/Users/taylor/Desktop/bids_data/sub-G04S02/ses-wave1/func/sub-G04S02_ses-wave1_task-RR_aq-B_bold.nii.gz',\n",
       " '/Users/taylor/Desktop/bids_data/sub-G04S02/ses-wave1/func/sub-G04S02_ses-wave1_task-RR_aq-C_bold.nii.gz',\n",
       " '/Users/taylor/Desktop/bids_data/sub-G04S02/ses-wave1/func/sub-G04S02_ses-wave1_task-RR_aq-D_bold.nii.gz',\n",
       " '/Users/taylor/Desktop/bids_data/sub-G04S02/ses-wave1/func/sub-G04S02_ses-wave1_task-RR_aq-E_bold.nii.gz',\n",
       " '/Users/taylor/Desktop/bids_data/sub-G04S03/ses-wave1/func/sub-G04S03_ses-wave1_task-RR_aq-A_bold.nii.gz',\n",
       " '/Users/taylor/Desktop/bids_data/sub-G04S03/ses-wave1/func/sub-G04S03_ses-wave1_task-RR_aq-B_bold.nii.gz',\n",
       " '/Users/taylor/Desktop/bids_data/sub-G04S03/ses-wave1/func/sub-G04S03_ses-wave1_task-RR_aq-C_bold.nii.gz',\n",
       " '/Users/taylor/Desktop/bids_data/sub-G04S03/ses-wave1/func/sub-G04S03_ses-wave1_task-RR_aq-D_bold.nii.gz',\n",
       " '/Users/taylor/Desktop/bids_data/sub-G04S03/ses-wave1/func/sub-G04S03_ses-wave1_task-RR_aq-E_bold.nii.gz',\n",
       " '/Users/taylor/Desktop/bids_data/sub-G04S05/ses-wave1/func/sub-G04S05_ses-wave1_task-RR_aq-A_bold.nii.gz',\n",
       " '/Users/taylor/Desktop/bids_data/sub-G04S05/ses-wave1/func/sub-G04S05_ses-wave1_task-RR_aq-B_bold.nii.gz',\n",
       " '/Users/taylor/Desktop/bids_data/sub-G04S05/ses-wave1/func/sub-G04S05_ses-wave1_task-RR_aq-C_bold.nii.gz',\n",
       " '/Users/taylor/Desktop/bids_data/sub-G04S05/ses-wave1/func/sub-G04S05_ses-wave1_task-RR_aq-D_bold.nii.gz',\n",
       " '/Users/taylor/Desktop/bids_data/sub-G04S05/ses-wave1/func/sub-G04S05_ses-wave1_task-RR_aq-E_bold.nii.gz',\n",
       " '/Users/taylor/Desktop/bids_data/sub-G04S06/ses-wave1/func/sub-G04S06_ses-wave1_task-RR_aq-A_bold.nii.gz',\n",
       " '/Users/taylor/Desktop/bids_data/sub-G04S06/ses-wave1/func/sub-G04S06_ses-wave1_task-RR_aq-B_bold.nii.gz',\n",
       " '/Users/taylor/Desktop/bids_data/sub-G04S06/ses-wave1/func/sub-G04S06_ses-wave1_task-RR_aq-C_bold.nii.gz',\n",
       " '/Users/taylor/Desktop/bids_data/sub-G04S06/ses-wave1/func/sub-G04S06_ses-wave1_task-RR_aq-D_bold.nii.gz',\n",
       " '/Users/taylor/Desktop/bids_data/sub-G04S06/ses-wave1/func/sub-G04S06_ses-wave1_task-RR_aq-E_bold.nii.gz',\n",
       " '/Users/taylor/Desktop/bids_data/sub-G05S01/ses-wave1/func/sub-G05S01_ses-wave1_task-RR_aq-A_bold.nii.gz',\n",
       " '/Users/taylor/Desktop/bids_data/sub-G05S01/ses-wave1/func/sub-G05S01_ses-wave1_task-RR_aq-B_bold.nii.gz',\n",
       " '/Users/taylor/Desktop/bids_data/sub-G05S01/ses-wave1/func/sub-G05S01_ses-wave1_task-RR_aq-C_bold.nii.gz',\n",
       " '/Users/taylor/Desktop/bids_data/sub-G05S01/ses-wave1/func/sub-G05S01_ses-wave1_task-RR_aq-D_bold.nii.gz',\n",
       " '/Users/taylor/Desktop/bids_data/sub-G05S01/ses-wave1/func/sub-G05S01_ses-wave1_task-RR_aq-E_bold.nii.gz',\n",
       " '/Users/taylor/Desktop/bids_data/sub-G05S02/ses-wave1/func/sub-G05S02_ses-wave1_task-RR_aq-A_bold.nii.gz',\n",
       " '/Users/taylor/Desktop/bids_data/sub-G05S02/ses-wave1/func/sub-G05S02_ses-wave1_task-RR_aq-B_bold.nii.gz',\n",
       " '/Users/taylor/Desktop/bids_data/sub-G05S02/ses-wave1/func/sub-G05S02_ses-wave1_task-RR_aq-C_bold.nii.gz',\n",
       " '/Users/taylor/Desktop/bids_data/sub-G05S02/ses-wave1/func/sub-G05S02_ses-wave1_task-RR_aq-D_bold.nii.gz',\n",
       " '/Users/taylor/Desktop/bids_data/sub-G05S02/ses-wave1/func/sub-G05S02_ses-wave1_task-RR_aq-E_bold.nii.gz',\n",
       " '/Users/taylor/Desktop/bids_data/sub-G05S03/ses-wave1/func/sub-G05S03_ses-wave1_task-RR_aq-A_bold.nii.gz',\n",
       " '/Users/taylor/Desktop/bids_data/sub-G05S03/ses-wave1/func/sub-G05S03_ses-wave1_task-RR_aq-B_bold.nii.gz',\n",
       " '/Users/taylor/Desktop/bids_data/sub-G05S03/ses-wave1/func/sub-G05S03_ses-wave1_task-RR_aq-C_bold.nii.gz',\n",
       " '/Users/taylor/Desktop/bids_data/sub-G05S03/ses-wave1/func/sub-G05S03_ses-wave1_task-RR_aq-D_bold.nii.gz',\n",
       " '/Users/taylor/Desktop/bids_data/sub-G05S03/ses-wave1/func/sub-G05S03_ses-wave1_task-RR_aq-E_bold.nii.gz',\n",
       " '/Users/taylor/Desktop/bids_data/sub-G05S04/ses-wave1/func/sub-G05S04_ses-wave1_task-RR_aq-A_bold.nii.gz',\n",
       " '/Users/taylor/Desktop/bids_data/sub-G05S04/ses-wave1/func/sub-G05S04_ses-wave1_task-RR_aq-B_bold.nii.gz',\n",
       " '/Users/taylor/Desktop/bids_data/sub-G05S04/ses-wave1/func/sub-G05S04_ses-wave1_task-RR_aq-C_bold.nii.gz',\n",
       " '/Users/taylor/Desktop/bids_data/sub-G05S04/ses-wave1/func/sub-G05S04_ses-wave1_task-RR_aq-D_bold.nii.gz',\n",
       " '/Users/taylor/Desktop/bids_data/sub-G05S04/ses-wave1/func/sub-G05S04_ses-wave1_task-RR_aq-E_bold.nii.gz',\n",
       " '/Users/taylor/Desktop/bids_data/sub-G05S06/ses-wave1/func/sub-G05S06_ses-wave1_task-RR_aq-A_bold.nii.gz',\n",
       " '/Users/taylor/Desktop/bids_data/sub-G05S06/ses-wave1/func/sub-G05S06_ses-wave1_task-RR_aq-B_bold.nii.gz',\n",
       " '/Users/taylor/Desktop/bids_data/sub-G05S06/ses-wave1/func/sub-G05S06_ses-wave1_task-RR_aq-C_bold.nii.gz',\n",
       " '/Users/taylor/Desktop/bids_data/sub-G05S06/ses-wave1/func/sub-G05S06_ses-wave1_task-RR_aq-D_bold.nii.gz',\n",
       " '/Users/taylor/Desktop/bids_data/sub-G05S06/ses-wave1/func/sub-G05S06_ses-wave1_task-RR_aq-E_bold.nii.gz',\n",
       " '/Users/taylor/Desktop/bids_data/sub-G06S01/ses-wave1/func/sub-G06S01_ses-wave1_task-RR_aq-A_bold.nii.gz',\n",
       " '/Users/taylor/Desktop/bids_data/sub-G06S01/ses-wave1/func/sub-G06S01_ses-wave1_task-RR_aq-B_bold.nii.gz',\n",
       " '/Users/taylor/Desktop/bids_data/sub-G06S01/ses-wave1/func/sub-G06S01_ses-wave1_task-RR_aq-C_bold.nii.gz',\n",
       " '/Users/taylor/Desktop/bids_data/sub-G06S01/ses-wave1/func/sub-G06S01_ses-wave1_task-RR_aq-D_bold.nii.gz',\n",
       " '/Users/taylor/Desktop/bids_data/sub-G06S01/ses-wave1/func/sub-G06S01_ses-wave1_task-RR_aq-E_bold.nii.gz',\n",
       " '/Users/taylor/Desktop/bids_data/sub-G06S02/ses-wave1/func/sub-G06S02_ses-wave1_task-RR_aq-A_bold.nii.gz',\n",
       " '/Users/taylor/Desktop/bids_data/sub-G06S02/ses-wave1/func/sub-G06S02_ses-wave1_task-RR_aq-B_bold.nii.gz',\n",
       " '/Users/taylor/Desktop/bids_data/sub-G06S02/ses-wave1/func/sub-G06S02_ses-wave1_task-RR_aq-C_bold.nii.gz',\n",
       " '/Users/taylor/Desktop/bids_data/sub-G06S02/ses-wave1/func/sub-G06S02_ses-wave1_task-RR_aq-D_bold.nii.gz',\n",
       " '/Users/taylor/Desktop/bids_data/sub-G06S02/ses-wave1/func/sub-G06S02_ses-wave1_task-RR_aq-E_bold.nii.gz',\n",
       " '/Users/taylor/Desktop/bids_data/sub-G06S03/ses-wave1/func/sub-G06S03_ses-wave1_task-RR_aq-A_bold.nii.gz',\n",
       " '/Users/taylor/Desktop/bids_data/sub-G06S03/ses-wave1/func/sub-G06S03_ses-wave1_task-RR_aq-B_bold.nii.gz',\n",
       " '/Users/taylor/Desktop/bids_data/sub-G06S03/ses-wave1/func/sub-G06S03_ses-wave1_task-RR_aq-C_bold.nii.gz',\n",
       " '/Users/taylor/Desktop/bids_data/sub-G06S03/ses-wave1/func/sub-G06S03_ses-wave1_task-RR_aq-D_bold.nii.gz',\n",
       " '/Users/taylor/Desktop/bids_data/sub-G06S03/ses-wave1/func/sub-G06S03_ses-wave1_task-RR_aq-E_bold.nii.gz',\n",
       " '/Users/taylor/Desktop/bids_data/sub-G06S04/ses-wave1/func/sub-G06S04_ses-wave1_task-RR_aq-A_bold.nii.gz',\n",
       " '/Users/taylor/Desktop/bids_data/sub-G06S04/ses-wave1/func/sub-G06S04_ses-wave1_task-RR_aq-B_bold.nii.gz',\n",
       " '/Users/taylor/Desktop/bids_data/sub-G06S04/ses-wave1/func/sub-G06S04_ses-wave1_task-RR_aq-C_bold.nii.gz',\n",
       " '/Users/taylor/Desktop/bids_data/sub-G06S04/ses-wave1/func/sub-G06S04_ses-wave1_task-RR_aq-D_bold.nii.gz',\n",
       " '/Users/taylor/Desktop/bids_data/sub-G06S04/ses-wave1/func/sub-G06S04_ses-wave1_task-RR_aq-E_bold.nii.gz',\n",
       " '/Users/taylor/Desktop/bids_data/sub-G06S05/ses-wave1/func/sub-G06S05_ses-wave1_task-RR_aq-A_bold.nii.gz',\n",
       " '/Users/taylor/Desktop/bids_data/sub-G06S05/ses-wave1/func/sub-G06S05_ses-wave1_task-RR_aq-B_bold.nii.gz',\n",
       " '/Users/taylor/Desktop/bids_data/sub-G06S05/ses-wave1/func/sub-G06S05_ses-wave1_task-RR_aq-C_bold.nii.gz',\n",
       " '/Users/taylor/Desktop/bids_data/sub-G06S05/ses-wave1/func/sub-G06S05_ses-wave1_task-RR_aq-D_bold.nii.gz',\n",
       " '/Users/taylor/Desktop/bids_data/sub-G06S05/ses-wave1/func/sub-G06S05_ses-wave1_task-RR_aq-E_bold.nii.gz',\n",
       " '/Users/taylor/Desktop/bids_data/sub-G06S06/ses-wave1/func/sub-G06S06_ses-wave1_task-RR_aq-A_bold.nii.gz',\n",
       " '/Users/taylor/Desktop/bids_data/sub-G06S06/ses-wave1/func/sub-G06S06_ses-wave1_task-RR_aq-B_bold.nii.gz',\n",
       " '/Users/taylor/Desktop/bids_data/sub-G06S06/ses-wave1/func/sub-G06S06_ses-wave1_task-RR_aq-C_bold.nii.gz',\n",
       " '/Users/taylor/Desktop/bids_data/sub-G06S06/ses-wave1/func/sub-G06S06_ses-wave1_task-RR_aq-D_bold.nii.gz',\n",
       " '/Users/taylor/Desktop/bids_data/sub-G06S06/ses-wave1/func/sub-G06S06_ses-wave1_task-RR_aq-E_bold.nii.gz',\n",
       " '/Users/taylor/Desktop/bids_data/sub-G07S01/ses-wave1/func/sub-G07S01_ses-wave1_task-RR_aq-A_bold.nii.gz',\n",
       " '/Users/taylor/Desktop/bids_data/sub-G07S01/ses-wave1/func/sub-G07S01_ses-wave1_task-RR_aq-B_bold.nii.gz',\n",
       " '/Users/taylor/Desktop/bids_data/sub-G07S01/ses-wave1/func/sub-G07S01_ses-wave1_task-RR_aq-C_bold.nii.gz',\n",
       " '/Users/taylor/Desktop/bids_data/sub-G07S01/ses-wave1/func/sub-G07S01_ses-wave1_task-RR_aq-D_bold.nii.gz',\n",
       " '/Users/taylor/Desktop/bids_data/sub-G07S01/ses-wave1/func/sub-G07S01_ses-wave1_task-RR_aq-E_bold.nii.gz',\n",
       " '/Users/taylor/Desktop/bids_data/sub-G07S02/ses-wave1/func/sub-G07S02_ses-wave1_task-RR_aq-A_bold.nii.gz',\n",
       " '/Users/taylor/Desktop/bids_data/sub-G07S02/ses-wave1/func/sub-G07S02_ses-wave1_task-RR_aq-B_bold.nii.gz',\n",
       " '/Users/taylor/Desktop/bids_data/sub-G07S02/ses-wave1/func/sub-G07S02_ses-wave1_task-RR_aq-C_bold.nii.gz',\n",
       " '/Users/taylor/Desktop/bids_data/sub-G07S02/ses-wave1/func/sub-G07S02_ses-wave1_task-RR_aq-D_bold.nii.gz',\n",
       " '/Users/taylor/Desktop/bids_data/sub-G07S02/ses-wave1/func/sub-G07S02_ses-wave1_task-RR_aq-E_bold.nii.gz',\n",
       " '/Users/taylor/Desktop/bids_data/sub-G07S04/ses-wave1/func/sub-G07S04_ses-wave1_task-RR_aq-A_bold.nii.gz',\n",
       " '/Users/taylor/Desktop/bids_data/sub-G07S04/ses-wave1/func/sub-G07S04_ses-wave1_task-RR_aq-B_bold.nii.gz',\n",
       " '/Users/taylor/Desktop/bids_data/sub-G07S04/ses-wave1/func/sub-G07S04_ses-wave1_task-RR_aq-C_bold.nii.gz',\n",
       " '/Users/taylor/Desktop/bids_data/sub-G07S04/ses-wave1/func/sub-G07S04_ses-wave1_task-RR_aq-D_bold.nii.gz',\n",
       " '/Users/taylor/Desktop/bids_data/sub-G07S04/ses-wave1/func/sub-G07S04_ses-wave1_task-RR_aq-E_bold.nii.gz',\n",
       " '/Users/taylor/Desktop/bids_data/sub-G07S05/ses-wave1/func/sub-G07S05_ses-wave1_task-RR_aq-A_bold.nii.gz',\n",
       " '/Users/taylor/Desktop/bids_data/sub-G07S05/ses-wave1/func/sub-G07S05_ses-wave1_task-RR_aq-B_bold.nii.gz',\n",
       " '/Users/taylor/Desktop/bids_data/sub-G07S05/ses-wave1/func/sub-G07S05_ses-wave1_task-RR_aq-C_bold.nii.gz',\n",
       " '/Users/taylor/Desktop/bids_data/sub-G07S05/ses-wave1/func/sub-G07S05_ses-wave1_task-RR_aq-D_bold.nii.gz',\n",
       " '/Users/taylor/Desktop/bids_data/sub-G07S05/ses-wave1/func/sub-G07S05_ses-wave1_task-RR_aq-E_bold.nii.gz',\n",
       " '/Users/taylor/Desktop/bids_data/sub-G07S06/ses-wave1/func/sub-G07S06_ses-wave1_task-RR_aq-A_bold.nii.gz',\n",
       " '/Users/taylor/Desktop/bids_data/sub-G07S06/ses-wave1/func/sub-G07S06_ses-wave1_task-RR_aq-B_bold.nii.gz',\n",
       " '/Users/taylor/Desktop/bids_data/sub-G07S06/ses-wave1/func/sub-G07S06_ses-wave1_task-RR_aq-C_bold.nii.gz',\n",
       " '/Users/taylor/Desktop/bids_data/sub-G07S06/ses-wave1/func/sub-G07S06_ses-wave1_task-RR_aq-D_bold.nii.gz',\n",
       " '/Users/taylor/Desktop/bids_data/sub-G07S06/ses-wave1/func/sub-G07S06_ses-wave1_task-RR_aq-E_bold.nii.gz']"
      ]
     },
     "execution_count": 17,
     "metadata": {},
     "output_type": "execute_result"
    }
   ],
   "source": [
    "subdirs = glob.glob(\"%s/sub-G[0-9][0-9]S[0-9][0-9]/ses-wave1/func/sub-G[0-9][0-9]S[0-9][0-9]_ses-wave1_task-RR_aq-[A-E]_bold.nii.gz\"%(studydir))\n",
    "subdirs"
   ]
  },
  {
   "cell_type": "code",
   "execution_count": 18,
   "metadata": {},
   "outputs": [],
   "source": [
    "for dir in list(subdirs):\n",
    "    splitdir = dir.split('/')\n",
    "    splitdir_sub = splitdir[5]\n",
    "    subnum = splitdir_sub[4:]\n",
    "    splitdir_run = splitdir[8]\n",
    "    runnum = splitdir_run[32]\n",
    "    groupnum = subnum[2]\n",
    "    sub = subnum[:3] + '_' + subnum[3:]\n",
    "    replacements = {'SUBNUM':subnum, 'RUNNUM':runnum, 'GROUPNUM':groupnum, 'SUB':sub}\n",
    "    with open(\"%s/template.fsf\"%(fsfdir)) as infile:\n",
    "        with open(\"%s/lev1/design_sub-%s_run%s.fsf\"%(fsfdir, subnum, runnum), 'w') as outfile:\n",
    "            for line in infile:\n",
    "                for src, target in replacements.items():\n",
    "                    line = line.replace(src, target)\n",
    "                outfile.write(line)\n",
    "    \n",
    "    "
   ]
  },
  {
   "cell_type": "code",
   "execution_count": 5,
   "metadata": {},
   "outputs": [
    {
     "data": {
      "text/plain": [
       "['',\n",
       " 'Users',\n",
       " 'taylor',\n",
       " 'Desktop',\n",
       " 'bids_data',\n",
       " 'sub-G01S01',\n",
       " 'ses-wave1',\n",
       " 'func',\n",
       " 'sub-G01S01_ses-wave1_task-RR_aq-A_bold.nii.gz']"
      ]
     },
     "execution_count": 5,
     "metadata": {},
     "output_type": "execute_result"
    }
   ],
   "source": [
    "splitdir = subdirs[0].split('/')\n",
    "splitdir"
   ]
  },
  {
   "cell_type": "code",
   "execution_count": 6,
   "metadata": {},
   "outputs": [
    {
     "data": {
      "text/plain": [
       "'G01S01'"
      ]
     },
     "execution_count": 6,
     "metadata": {},
     "output_type": "execute_result"
    }
   ],
   "source": [
    "splitdir_sub = splitdir[5]\n",
    "subnum = splitdir_sub[4:]\n",
    "subnum"
   ]
  },
  {
   "cell_type": "code",
   "execution_count": 7,
   "metadata": {},
   "outputs": [
    {
     "data": {
      "text/plain": [
       "'A'"
      ]
     },
     "execution_count": 7,
     "metadata": {},
     "output_type": "execute_result"
    }
   ],
   "source": [
    "splitdir_run = splitdir[8]\n",
    "runnum = splitdir_run[32]\n",
    "runnum"
   ]
  },
  {
   "cell_type": "code",
   "execution_count": 8,
   "metadata": {},
   "outputs": [
    {
     "data": {
      "text/plain": [
       "'1'"
      ]
     },
     "execution_count": 8,
     "metadata": {},
     "output_type": "execute_result"
    }
   ],
   "source": [
    "groupnum = subnum[2]\n",
    "groupnum"
   ]
  },
  {
   "cell_type": "code",
   "execution_count": 11,
   "metadata": {},
   "outputs": [
    {
     "data": {
      "text/plain": [
       "'G01_S01'"
      ]
     },
     "execution_count": 11,
     "metadata": {},
     "output_type": "execute_result"
    }
   ],
   "source": [
    "sub = subnum[:3] + '_' + subnum[3:]\n",
    "sub"
   ]
  },
  {
   "cell_type": "code",
   "execution_count": null,
   "metadata": {},
   "outputs": [],
   "source": []
  }
 ],
 "metadata": {
  "kernelspec": {
   "display_name": "Python 3",
   "language": "python",
   "name": "python3"
  },
  "language_info": {
   "codemirror_mode": {
    "name": "ipython",
    "version": 3
   },
   "file_extension": ".py",
   "mimetype": "text/x-python",
   "name": "python",
   "nbconvert_exporter": "python",
   "pygments_lexer": "ipython3",
   "version": "3.7.0"
  }
 },
 "nbformat": 4,
 "nbformat_minor": 2
}
