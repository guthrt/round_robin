{
 "cells": [
  {
   "cell_type": "code",
   "execution_count": 1,
   "metadata": {},
   "outputs": [],
   "source": [
    "import os\n",
    "import glob\n",
    "import subprocess"
   ]
  },
  {
   "cell_type": "code",
   "execution_count": 2,
   "metadata": {},
   "outputs": [],
   "source": [
    "fsfdir = '/projects/csnl/shared/round_robin/analysis/bids_data/fsfs/lev1_loc'"
   ]
  },
  {
   "cell_type": "code",
   "execution_count": 3,
   "metadata": {},
   "outputs": [
    {
     "data": {
      "text/plain": [
       "['/projects/csnl/shared/round_robin/analysis/bids_data/fsfs/lev1_loc/design_sub-G03S05_loc.fsf',\n",
       " '/projects/csnl/shared/round_robin/analysis/bids_data/fsfs/lev1_loc/design_sub-G01S02_loc.fsf',\n",
       " '/projects/csnl/shared/round_robin/analysis/bids_data/fsfs/lev1_loc/design_sub-G05S04_loc.fsf',\n",
       " '/projects/csnl/shared/round_robin/analysis/bids_data/fsfs/lev1_loc/design_sub-G05S01_loc.fsf',\n",
       " '/projects/csnl/shared/round_robin/analysis/bids_data/fsfs/lev1_loc/design_sub-G07S01_loc.fsf',\n",
       " '/projects/csnl/shared/round_robin/analysis/bids_data/fsfs/lev1_loc/design_sub-G05S03_loc.fsf',\n",
       " '/projects/csnl/shared/round_robin/analysis/bids_data/fsfs/lev1_loc/design_sub-G03S01_loc.fsf',\n",
       " '/projects/csnl/shared/round_robin/analysis/bids_data/fsfs/lev1_loc/design_sub-G06S01_loc.fsf',\n",
       " '/projects/csnl/shared/round_robin/analysis/bids_data/fsfs/lev1_loc/design_sub-G02S05_loc.fsf',\n",
       " '/projects/csnl/shared/round_robin/analysis/bids_data/fsfs/lev1_loc/design_sub-G03S06_loc.fsf',\n",
       " '/projects/csnl/shared/round_robin/analysis/bids_data/fsfs/lev1_loc/design_sub-G01S06_loc.fsf',\n",
       " '/projects/csnl/shared/round_robin/analysis/bids_data/fsfs/lev1_loc/design_sub-G06S06_loc.fsf',\n",
       " '/projects/csnl/shared/round_robin/analysis/bids_data/fsfs/lev1_loc/design_sub-G05S05_loc.fsf',\n",
       " '/projects/csnl/shared/round_robin/analysis/bids_data/fsfs/lev1_loc/design_sub-G06S03_loc.fsf',\n",
       " '/projects/csnl/shared/round_robin/analysis/bids_data/fsfs/lev1_loc/design_sub-G02S03_loc.fsf',\n",
       " '/projects/csnl/shared/round_robin/analysis/bids_data/fsfs/lev1_loc/design_sub-G04S05_loc.fsf',\n",
       " '/projects/csnl/shared/round_robin/analysis/bids_data/fsfs/lev1_loc/design_sub-G06S04_loc.fsf',\n",
       " '/projects/csnl/shared/round_robin/analysis/bids_data/fsfs/lev1_loc/design_sub-G02S02_loc.fsf',\n",
       " '/projects/csnl/shared/round_robin/analysis/bids_data/fsfs/lev1_loc/design_sub-G07S06_loc.fsf',\n",
       " '/projects/csnl/shared/round_robin/analysis/bids_data/fsfs/lev1_loc/design_sub-G06S02_loc.fsf',\n",
       " '/projects/csnl/shared/round_robin/analysis/bids_data/fsfs/lev1_loc/design_sub-G06S05_loc.fsf',\n",
       " '/projects/csnl/shared/round_robin/analysis/bids_data/fsfs/lev1_loc/design_sub-G07S04_loc.fsf',\n",
       " '/projects/csnl/shared/round_robin/analysis/bids_data/fsfs/lev1_loc/design_sub-G04S02_loc.fsf',\n",
       " '/projects/csnl/shared/round_robin/analysis/bids_data/fsfs/lev1_loc/design_sub-G05S06_loc.fsf',\n",
       " '/projects/csnl/shared/round_robin/analysis/bids_data/fsfs/lev1_loc/design_sub-G04S01_loc.fsf',\n",
       " '/projects/csnl/shared/round_robin/analysis/bids_data/fsfs/lev1_loc/design_sub-G02S01_loc.fsf',\n",
       " '/projects/csnl/shared/round_robin/analysis/bids_data/fsfs/lev1_loc/design_sub-G01S05_loc.fsf',\n",
       " '/projects/csnl/shared/round_robin/analysis/bids_data/fsfs/lev1_loc/design_sub-G01S03_loc.fsf',\n",
       " '/projects/csnl/shared/round_robin/analysis/bids_data/fsfs/lev1_loc/design_sub-G02S06_loc.fsf',\n",
       " '/projects/csnl/shared/round_robin/analysis/bids_data/fsfs/lev1_loc/design_sub-G05S02_loc.fsf',\n",
       " '/projects/csnl/shared/round_robin/analysis/bids_data/fsfs/lev1_loc/design_sub-G01S01_loc.fsf',\n",
       " '/projects/csnl/shared/round_robin/analysis/bids_data/fsfs/lev1_loc/design_sub-G03S04_loc.fsf',\n",
       " '/projects/csnl/shared/round_robin/analysis/bids_data/fsfs/lev1_loc/design_sub-G03S02_loc.fsf',\n",
       " '/projects/csnl/shared/round_robin/analysis/bids_data/fsfs/lev1_loc/design_sub-G07S02_loc.fsf',\n",
       " '/projects/csnl/shared/round_robin/analysis/bids_data/fsfs/lev1_loc/design_sub-G02S04_loc.fsf',\n",
       " '/projects/csnl/shared/round_robin/analysis/bids_data/fsfs/lev1_loc/design_sub-G07S05_loc.fsf',\n",
       " '/projects/csnl/shared/round_robin/analysis/bids_data/fsfs/lev1_loc/design_sub-G04S06_loc.fsf',\n",
       " '/projects/csnl/shared/round_robin/analysis/bids_data/fsfs/lev1_loc/design_sub-G03S03_loc.fsf',\n",
       " '/projects/csnl/shared/round_robin/analysis/bids_data/fsfs/lev1_loc/design_sub-G04S03_loc.fsf',\n",
       " '/projects/csnl/shared/round_robin/analysis/bids_data/fsfs/lev1_loc/design_sub-G01S04_loc.fsf']"
      ]
     },
     "execution_count": 3,
     "metadata": {},
     "output_type": "execute_result"
    }
   ],
   "source": [
    "subdirs = glob.glob(\"%s/design_sub-G[0-9][0-9]S[0-9][0-9]_loc.fsf\"%(fsfdir))\n",
    "subdirs"
   ]
  },
  {
   "cell_type": "code",
   "execution_count": null,
   "metadata": {},
   "outputs": [],
   "source": [
    "for dir in list(subdirs):\n",
    "    sub = dir\n",
    "    fsf_command = \"feat %s\"%(sub)\n",
    "    process = subprocess.Popen(fsf_command.split(), stdout=subprocess.PIPE)\n",
    "    output, error = process.communicate()"
   ]
  },
  {
   "cell_type": "code",
   "execution_count": 8,
   "metadata": {},
   "outputs": [
    {
     "data": {
      "text/plain": [
       "'feat /Users/taylor/Desktop/bids_data/fsfs/lev1_loc/design_sub-G01S01_loc.fsf'"
      ]
     },
     "execution_count": 8,
     "metadata": {},
     "output_type": "execute_result"
    }
   ],
   "source": [
    "sub = subdirs[0]\n",
    "fsf_command = \"feat %s\"%(sub)\n",
    "fsf_command"
   ]
  },
  {
   "cell_type": "code",
   "execution_count": null,
   "metadata": {},
   "outputs": [],
   "source": []
  }
 ],
 "metadata": {
  "kernelspec": {
   "display_name": "Python 3",
   "language": "python",
   "name": "python3"
  },
  "language_info": {
   "codemirror_mode": {
    "name": "ipython",
    "version": 3
   },
   "file_extension": ".py",
   "mimetype": "text/x-python",
   "name": "python",
   "nbconvert_exporter": "python",
   "pygments_lexer": "ipython3",
   "version": "3.6.5"
  }
 },
 "nbformat": 4,
 "nbformat_minor": 2
}
